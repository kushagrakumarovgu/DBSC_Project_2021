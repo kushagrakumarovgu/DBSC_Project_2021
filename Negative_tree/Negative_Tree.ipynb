{
  "nbformat": 4,
  "nbformat_minor": 0,
  "metadata": {
    "colab": {
      "name": "Negative_Tree.ipynb",
      "provenance": [],
      "collapsed_sections": []
    },
    "kernelspec": {
      "name": "python3",
      "display_name": "Python 3"
    },
    "language_info": {
      "name": "python"
    }
  },
  "cells": [
    {
      "cell_type": "markdown",
      "metadata": {
        "id": "_7RwWP6lHh6S"
      },
      "source": [
        "Paper : Efficient Infrequent Pattern Mining\n",
        "Using Negative Itemset Tree\n",
        "by Yifeng Lu, Florian Richter and Thomas Seid"
      ]
    },
    {
      "cell_type": "code",
      "metadata": {
        "id": "y6P4ZD4gxlNk"
      },
      "source": [
        "class colors:\n",
        "  red ='\\033[31m'\n",
        "  green ='\\033[32m'\n",
        "  orange ='\\033[33m'\n",
        "  blue ='\\033[34m'\n",
        "  yellow ='\\033[93m'\n",
        "  ENDC = \"\\033[0m\""
      ],
      "execution_count": 1,
      "outputs": []
    },
    {
      "cell_type": "code",
      "metadata": {
        "id": "itirXGqK0ceD"
      },
      "source": [
        "def print_red(text):\n",
        "  to_print = f\"{colors.red}{text}{colors.ENDC}\"\n",
        "  print(to_print,end=\"\")"
      ],
      "execution_count": 2,
      "outputs": []
    },
    {
      "cell_type": "markdown",
      "metadata": {
        "id": "9ocSYvPsIqAf"
      },
      "source": [
        "# Generates Negative itemset."
      ]
    },
    {
      "cell_type": "code",
      "metadata": {
        "id": "3opOJpoABAZn"
      },
      "source": [
        "def get_negative_itemset(all_items,T):\n",
        "\n",
        "  neg_item_set = list()\n",
        "  for item_set in T:\n",
        "    neg_item_set.append(all_items.difference(item_set))\n",
        "\n",
        "  return neg_item_set"
      ],
      "execution_count": 3,
      "outputs": []
    },
    {
      "cell_type": "markdown",
      "metadata": {
        "id": "zn0NLIJtI3A4"
      },
      "source": [
        "# Compute frequency of each item in negative itemset."
      ]
    },
    {
      "cell_type": "code",
      "metadata": {
        "id": "uCgyiDaLBDtD"
      },
      "source": [
        "def gen_frequency_table(all_items,neg_item_set):\n",
        "  freq_dict = dict.fromkeys(all_items,0) \n",
        "\n",
        "  for item_set in neg_item_set:\n",
        "    for item in item_set:\n",
        "      freq_dict[item] += 1\n",
        "\n",
        "  return freq_dict"
      ],
      "execution_count": 4,
      "outputs": []
    },
    {
      "cell_type": "code",
      "metadata": {
        "id": "7w_JWadOBGh5"
      },
      "source": [
        "def get_freq(key):\n",
        "  return freq_dict[key]"
      ],
      "execution_count": 5,
      "outputs": []
    },
    {
      "cell_type": "code",
      "metadata": {
        "id": "1gN71Vz-BKcp"
      },
      "source": [
        "def reorder_nis_based_on_freq(neg_item_set):\n",
        "  \n",
        "  neg_item_set_ordered = list()\n",
        "  for item_set in neg_item_set:\n",
        "    neg_item_set_ordered.append((sorted(item_set,key=get_freq,reverse=True)))\n",
        "\n",
        "  return neg_item_set_ordered"
      ],
      "execution_count": 6,
      "outputs": []
    },
    {
      "cell_type": "code",
      "metadata": {
        "colab": {
          "base_uri": "https://localhost:8080/"
        },
        "id": "3-Gh2jrGBPgU",
        "outputId": "3bafdf74-8b99-4c46-d691-138d8c48d5f3"
      },
      "source": [
        "# Sample Itemsets and Transaction\n",
        "all_items = {'a','b','c','d','e'}\n",
        "T = [ {'a','b','c'}, {'a','b','d'}, {'b','c'}, {'a','b'}, {'a','b','e'},{'d','e'} ]\n",
        "\n",
        "neg_item_set = get_negative_itemset(all_items,T)\n",
        "# Negative Itemset of the transaction\n",
        "neg_item_set"
      ],
      "execution_count": 7,
      "outputs": [
        {
          "output_type": "execute_result",
          "data": {
            "text/plain": [
              "[{'d', 'e'},\n",
              " {'c', 'e'},\n",
              " {'a', 'd', 'e'},\n",
              " {'c', 'd', 'e'},\n",
              " {'c', 'd'},\n",
              " {'a', 'b', 'c'}]"
            ]
          },
          "metadata": {},
          "execution_count": 7
        }
      ]
    },
    {
      "cell_type": "code",
      "metadata": {
        "colab": {
          "base_uri": "https://localhost:8080/"
        },
        "id": "tfk1Z35EBZc9",
        "outputId": "8c4c4242-3d13-45c2-fc1b-e8eb74a076bc"
      },
      "source": [
        "freq_dict = gen_frequency_table(all_items,neg_item_set)\n",
        "freq_dict"
      ],
      "execution_count": 8,
      "outputs": [
        {
          "output_type": "execute_result",
          "data": {
            "text/plain": [
              "{'a': 2, 'b': 1, 'c': 4, 'd': 4, 'e': 4}"
            ]
          },
          "metadata": {},
          "execution_count": 8
        }
      ]
    },
    {
      "cell_type": "code",
      "metadata": {
        "colab": {
          "base_uri": "https://localhost:8080/"
        },
        "id": "I4xzvqgeBa9b",
        "outputId": "2087d882-c88e-4431-d0db-42705a8587cf"
      },
      "source": [
        "neg_item_set_ordered = reorder_nis_based_on_freq(neg_item_set)\n",
        "neg_item_set_ordered"
      ],
      "execution_count": 9,
      "outputs": [
        {
          "output_type": "execute_result",
          "data": {
            "text/plain": [
              "[['e', 'd'],\n",
              " ['c', 'e'],\n",
              " ['e', 'd', 'a'],\n",
              " ['c', 'e', 'd'],\n",
              " ['c', 'd'],\n",
              " ['c', 'a', 'b']]"
            ]
          },
          "metadata": {},
          "execution_count": 9
        }
      ]
    },
    {
      "cell_type": "code",
      "metadata": {
        "colab": {
          "base_uri": "https://localhost:8080/"
        },
        "id": "Uw03FDYVB-tp",
        "outputId": "aa76d284-98cc-4754-f37e-2c112f3c2762"
      },
      "source": [
        "def get_len(key):\n",
        "  return len(key)\n",
        "\n",
        "neg_item_set_ordered = sorted(neg_item_set_ordered,key=get_len)\n",
        "\n",
        "neg_item_set_ordered"
      ],
      "execution_count": 10,
      "outputs": [
        {
          "output_type": "execute_result",
          "data": {
            "text/plain": [
              "[['e', 'd'],\n",
              " ['c', 'e'],\n",
              " ['c', 'd'],\n",
              " ['e', 'd', 'a'],\n",
              " ['c', 'e', 'd'],\n",
              " ['c', 'a', 'b']]"
            ]
          },
          "metadata": {},
          "execution_count": 10
        }
      ]
    },
    {
      "cell_type": "code",
      "metadata": {
        "id": "rfPNg9EtBjNA"
      },
      "source": [
        "neg_item_set_ordered = [['d','e'],\n",
        "                         ['c','e'],\n",
        "                         ['c','d'],\n",
        "                         ['d','e','a'],\n",
        "                         ['c','d','e'],\n",
        "                         ['c','a','b']]"
      ],
      "execution_count": 11,
      "outputs": []
    },
    {
      "cell_type": "code",
      "metadata": {
        "id": "Fr3vdW1nadng"
      },
      "source": [
        "class Node:\n",
        "  def __init__(self,item,count):\n",
        "    self.item = item\n",
        "    self.count = count\n",
        "    self.children = []\n",
        "    self.parent = None\n",
        "    self.is_terminating = False\n",
        "    self.termination_node = False # Marked with RED in the Paper.\n",
        "\n",
        "  def get_level(self):\n",
        "    level = 0\n",
        "    p = self.parent\n",
        "    while p:\n",
        "      level += 1\n",
        "      p = p.parent\n",
        "\n",
        "    return level\n",
        "\n",
        "  def print_tree(self):\n",
        "    spaces = ' ' * self.get_level() * 4\n",
        "    prefix = spaces + \"|__\" if self.parent else \"\"\n",
        "    print(prefix,end=\"\")\n",
        "    print(self.item,end=\"\")\n",
        "    print(\"({})\".format(self.count))\n",
        "\n",
        "    if self.children:\n",
        "      for child in self.children:\n",
        "        child.print_tree()\n",
        "\n",
        "  def print_tree_level(self,level):\n",
        "    if self.get_level() > level:\n",
        "      return\n",
        "    spaces = ' ' * self.get_level() * 3\n",
        "    prefix = spaces + \"|__\" if self.parent else \"\"\n",
        "    print(prefix,end=\"\")\n",
        "    print(self.item,end=\"\")\n",
        "    print(\"({})\".format(self.count))\n",
        "    \n",
        "    if self.children:\n",
        "      for child in self.children:\n",
        "        child.print_tree_level(level)"
      ],
      "execution_count": 12,
      "outputs": []
    },
    {
      "cell_type": "code",
      "metadata": {
        "id": "jWXjKpLWbljt"
      },
      "source": [
        "class Neg_Tree:\n",
        "  def __init__(self,all_items):\n",
        "    self.root = Node(all_items,0)\n",
        "\n",
        "  def add_item(self,Transaction): # {c,d}\n",
        "    curr_node = self.root\n",
        "    count = 0\n",
        "    total_count = 0\n",
        "\n",
        "    for item in Transaction:\n",
        "      count = 0\n",
        "      if any(x for x in curr_node.children if x.item == item) == False:\n",
        "        if item == Transaction[-1]:\n",
        "          count = 1\n",
        "        \n",
        "        child = Node(item,count)\n",
        "        child.parent = curr_node\n",
        "        curr_node.children.append(child)\n",
        "        \n",
        "        # Condition for marking terminal node.\n",
        "        if count == 1 and total_count == 0:\n",
        "          child.termination_node = True\n",
        "      \n",
        "      for node in curr_node.children:\n",
        "        total_count += node.count\n",
        "        if item == node.item:\n",
        "          curr_node = node\n",
        "          break"
      ],
      "execution_count": 13,
      "outputs": []
    },
    {
      "cell_type": "code",
      "metadata": {
        "id": "lBe0uqFQj6Dn"
      },
      "source": [
        "N_tree = Neg_Tree(all_items)"
      ],
      "execution_count": 14,
      "outputs": []
    },
    {
      "cell_type": "code",
      "metadata": {
        "id": "0Lb7Si1D6M_F"
      },
      "source": [
        "# adding items to the tree.\n",
        "for item in neg_item_set_ordered:\n",
        "  N_tree.add_item(item)"
      ],
      "execution_count": 15,
      "outputs": []
    },
    {
      "cell_type": "markdown",
      "metadata": {
        "id": "Te4fs-zPMgEG"
      },
      "source": [
        "![image.png](data:image/png;base64,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)"
      ]
    },
    {
      "cell_type": "code",
      "metadata": {
        "colab": {
          "base_uri": "https://localhost:8080/"
        },
        "id": "jPCojYCdkbnn",
        "outputId": "6a2c1ec4-384f-4571-d811-809e5c08a27e"
      },
      "source": [
        "N_tree.root.print_tree()"
      ],
      "execution_count": 16,
      "outputs": [
        {
          "output_type": "stream",
          "text": [
            "{'e', 'a', 'b', 'c', 'd'}(0)\n",
            "    |__d(0)\n",
            "        |__e(1)\n",
            "            |__a(1)\n",
            "    |__c(0)\n",
            "        |__e(1)\n",
            "        |__d(1)\n",
            "            |__e(1)\n",
            "        |__a(0)\n",
            "            |__b(1)\n"
          ],
          "name": "stdout"
        }
      ]
    },
    {
      "cell_type": "code",
      "metadata": {
        "colab": {
          "base_uri": "https://localhost:8080/"
        },
        "id": "YezwFheBzTYI",
        "outputId": "51c250ea-9316-4724-fa54-1de07b5613ea"
      },
      "source": [
        "N_tree.root.children[0].parent.item"
      ],
      "execution_count": 17,
      "outputs": [
        {
          "output_type": "execute_result",
          "data": {
            "text/plain": [
              "{'a', 'b', 'c', 'd', 'e'}"
            ]
          },
          "metadata": {},
          "execution_count": 17
        }
      ]
    },
    {
      "cell_type": "code",
      "metadata": {
        "colab": {
          "base_uri": "https://localhost:8080/"
        },
        "id": "8yDTRa1xiUbi",
        "outputId": "dd81130a-6ec7-4566-c8d7-d050eaad3d29"
      },
      "source": [
        "# Level wise printing\n",
        "N_tree.root.print_tree_level(2)"
      ],
      "execution_count": 18,
      "outputs": [
        {
          "output_type": "stream",
          "text": [
            "{'e', 'a', 'b', 'c', 'd'}(0)\n",
            "   |__d(0)\n",
            "      |__e(1)\n",
            "   |__c(0)\n",
            "      |__e(1)\n",
            "      |__d(1)\n",
            "      |__a(0)\n"
          ],
          "name": "stdout"
        }
      ]
    },
    {
      "cell_type": "code",
      "metadata": {
        "id": "Fbfnk6MKIdMP"
      },
      "source": [
        "# As per the procedure mentioned in page 7 of the paper section 4.1\n",
        "def TraverseSubtree(n,p,itemset):\n",
        "  for n_dash in n.children: \n",
        "    if n_dash.item in p.item:\n",
        "      p.children.append(n_dash)\n",
        "      n_dash.parent = p\n",
        "\n",
        "    else:\n",
        "      p.count += n_dash.count\n",
        "      TraverseSubtree(n_dash,p,itemset) \n"
      ],
      "execution_count": 19,
      "outputs": []
    },
    {
      "cell_type": "code",
      "metadata": {
        "id": "mw3qPvKMH6LV"
      },
      "source": [
        "# As per the procedure mentioned in page 7 of the paper section 4.1\n",
        "def NI_tree_substraction(root,items_remove):\n",
        "  negation_item_removed = root.item.difference(set(items_remove))\n",
        "  new_node_item = negation_item_removed \n",
        "\n",
        "  new_node = Node(new_node_item,root.count)\n",
        "  TraverseSubtree(root,new_node,new_node.item)\n",
        "\n",
        "  return new_node"
      ],
      "execution_count": 20,
      "outputs": []
    },
    {
      "cell_type": "code",
      "metadata": {
        "id": "4OalN9eVM3hS"
      },
      "source": [
        "# Please refer to Fig. 4 of section 4.1. Below we are testing the output of \n",
        "# Negative tree substraction.\n",
        "# Removing c from the tree.\n",
        "x = {'c'}"
      ],
      "execution_count": 21,
      "outputs": []
    },
    {
      "cell_type": "code",
      "metadata": {
        "id": "1D1hyuflMsgE"
      },
      "source": [
        "r1 = NI_tree_substraction(N_tree.root,x)"
      ],
      "execution_count": 22,
      "outputs": []
    },
    {
      "cell_type": "markdown",
      "metadata": {
        "id": "VGpZtMbENdHW"
      },
      "source": [
        "![image.png](data:image/png;base64,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)"
      ]
    },
    {
      "cell_type": "code",
      "metadata": {
        "id": "DIiBjIHAM9Iv",
        "colab": {
          "base_uri": "https://localhost:8080/"
        },
        "outputId": "860b631b-a547-4aa5-a1c4-eccf954c3442"
      },
      "source": [
        "r1.print_tree()"
      ],
      "execution_count": 23,
      "outputs": [
        {
          "output_type": "stream",
          "text": [
            "{'a', 'e', 'd', 'b'}(0)\n",
            "    |__d(0)\n",
            "        |__e(1)\n",
            "            |__a(1)\n",
            "    |__e(1)\n",
            "    |__d(1)\n",
            "        |__e(1)\n",
            "    |__a(0)\n",
            "        |__b(1)\n"
          ],
          "name": "stdout"
        }
      ]
    },
    {
      "cell_type": "code",
      "metadata": {
        "id": "VDNoDW2A2dHX"
      },
      "source": [
        "# Removing d\n",
        "rx = NI_tree_substraction(r1,'d')"
      ],
      "execution_count": 24,
      "outputs": []
    },
    {
      "cell_type": "markdown",
      "metadata": {
        "id": "EtOeh7HFRFvE"
      },
      "source": [
        "![image.png](data:image/png;base64,iVBORw0KGgoAAAANSUhEUgAAAJMAAACpCAYAAAAvBA/eAAAWjklEQVR4Ae1dB5QURbsdA55jfogCAvqQYAYeEsSAgCLoQyWIAURUFATxiRHBBAiIoqCAog8UBfQ3EY6i/uBDQAGRHA0IuKKSViTDsrsze9+5tVtDT0/3ztRMz+z07vedU9vd1VXVtbfuVPzqqwBEBAGPEAh4lI4kIwhAyCQk8AwBIZNnUEpCQibhgGcICJk8g1ISEjIJBzxDQMjkGZSSkJBJOOAZAkImz6CUhIRMwgHPEBAyeQalJCRkEg54hoCQyTMoJSEhk3DAMwSETJ5BKQkJmYQDniEgZPIMSknIV2TatWsXunTpgltvvdWX7uabb8b3339falnnKzJ99913OOGEE/Dhhx/60l1xxRXo169fNJlWrQB+Xhft7zMf35Hpyiuv9BnER7L7wgsvRJJpzUpgYD8cPr88MGPakYA+vRMypbHgosikv/1ITyGTxiJdVzZzpapm0sA92qvskenArl1AKIhgfj7yg0EENRj6GtqHXftC+snzq5DJc0g9TTDOZu4ANk0ajKdnbET+sjG49cwAAuX+Cx1X2+gU2oolbzyPl77LjiaaB9n2gkzffvsttm/fHs5Nbm4uxo0bhzFjxuDNN9/E22+/jXfffRdbtmwJh3n//ffD78ePH4+xY8eq5+zs7HCYeG5cm7myUzMFkf2/HdFoxI/II2Kh7Xj/Khcyqfeb8WmnNuix7FA8+BqF8YJM1157LYYNGxbx3YKCApx55pmYM2eO8l+xYgUqV66MjRs3hsOdf/75+Oyzz9Tz4cOH0aFDBzA/JiJk2joZd1Rqih5ZRc0XydS8kEydF2dh5axZmLPxn0KiFSFb8O4NCFwxDItsFZcJ8E5hkyUTyfH000+jVq1aIIGscvbZZ2PBggVhr3POOQcfffRR+LlOnTr46quv1POPP/6IdevW4Ysvvgi/j+emjJMphP0jL0OgxoP4WFVLRTUTyXR0BVS/+ykM6FwP5ctVRGD4YuzTiK56Dk3KnYtWP+hI+kVy12TJxKYsGAzioosuCtdCOkdWMpEoDRs2BCdJtWgyZWVlYciQIYqMe/fu1a/jukaRadsWYMJbCHXvDDzzmLpHXm5caWVioBh9phzMviWAQIMBmK9rmXDNVAftlweBnLnoVzWAwH9cj6f+Kvq1Z72K1oGjEBi12dP/ORky5eXlqT4RMzRy5Eh07tw5Im8kEycU2X966KGHMHDgQOTk5ITDkEyPPvqoisfaLRGJIlMiiWRwnBhk2omPrg4g0HgwFutBWphMugO+Ax+0CCBwTFXUmVn0q/p7HNoHAggMWu3pv54MmaZOnapqFHayX3zxRZxyyikRNY+1ZmKm7733XnTr1i2cf10zsWZ77bXXlP+8efPC7+O5KeNkOoiZHQII1OmPWW5kCm3D5GYBBI6tjeYLipq1rW+gDck0dms8GMcdJhkysTayCtf3Ro0aFfayk2nAgAFo0aJF+L0mEz3279+PP//8U9Ve4QBx3JRxMgXxz/DGCFTvhX/p7k+4ZqqH9quCQO4SDKkVQKBGL3yoB3CrB+KychejLZtBDyURMrEmmTZtGm655Rbs2LFD5ebgwYN46aWXwBEaSfHbb7/h9NNPB6cANm/erDril112GTiNQPnjjz/ADvlbb72l3q9cuVL1u1jDmUgZJxOALRPRuVJTdP/dMpprcw6u7toJ7ftPwLQX2uLc/2yJ7vP+Ds8thSa0QaDZy1iqazMTxIsJmwiZOI80a9Ys5UgCyrZt28J+P/zwQ/ie4b7++mssWrQI7GNpYXOm07BeSTwTETIhH9njbkWD4WtQ2B0NYs/u/Yo4oZ0bsXZtFrLzLZCG/sCULjei5/LDFk9vbhMhkzdf9iYVIZPCcT82ThqK5z5fXzyqoa1YPHogXvx+V7iWKj6C2Vshkxle6Q4dYzQXmZ3D+8IzSZEv9BPX5nZ720/SSfMqZLKikXn3RmQq6ewLmUq6BIr/vpCpeHw8fSt9Jk/hTC6x+fPnIxAIoH///p47TlI2atQI7dq1Q5s2bdCjRw/Pv1G9evVITcvk4Mi42L6qmThc5+Tj0KFDPXMkEeebjjnmGFSrVg0XXHABzjrrLJx44olqQfjOO+9UM+defZNre6VVfEUmrwqBKiQTJkxAvXr1FHnuu+8+RRzObHPx9txzz8U777yDiRMnokGDBurdq6++qt55lYfSmE6ZIhOV4rhMUqlSJVx33XWYOXOmmv2uWLEili9fHi5fqpicccYZoF4TZeHChbj99ttx2mmnoXfv3vjll1/CYeXmCAJlgkyc+b7rrrtQvnx59OzZEz///LNCID8/H1w2GTFixBFEiu6mTJkC9nF27twZfkfty2eeeUaRsVWrVkqfya4XFQ5cBm9KLZlCoRCmT5+OZs2aqb4QtSv/+eefiCKmKsn1118fpSinA1ElpWXLlkoHSvvxymaSTSB1nqhoJ01gITqljkz79u1ThVujRg1ceumlarMmayC7zJ07F1WqVAkv/trf85mEZA3Ut29fp9fKjzt0rU2grvVcI5TiF6WGTFz5f/jhh1W/5rbbblOLtW7lxqaLIzYu6sYS1mYk5ieffFJsUDaBzz77bJluAn1PJq7oc26IKiRPPvmkUikpttQB3HTTTXjiiSdiBQu/X7VqFdhJX7t2bdjP7YZN4KRJk8pkE+hLMlGthH2WSy65BOedd57aekQdpXjk9ddfVwVtVTGJJx51nWrXro09e/bEE1yF0aNAdvzLwijQV2TiPrVBgwapbUnsy3C3iMloas2aNWrIv2HDhrgJYQ3Yp08fNTtu8k3GLyujQF+QafXq1bjnnnvU0L579+7gPJCpHDp0CBdeeKFqgkzj6vDsyHN0yLmqRKS0jwIzlkwcSXHTI/Wwq1atqpZPrHM+poXJtTbadkpWqPrLzvvnn3+eVFKlcRSYcWTiksbo0aPV/A0XXj/44IMIFdpESpATkJwP4rSBF7J48WLVIV+/PoayYBwfs48CZ8yYYdR0x/GJtAXJGDJxAZT70ipUqKCU/9l59UKop82R2NKlS71ILpwGbRKw2ST5vRCnUaBJZ9+LPCSbRomTiWol3LdPEnG4bqqkXxwA3JlCEzzDhw8vLljC7+6//37QtKDXoptAjgIfeOCB8PKP19/xOr0SIROH5ZMnT1ZDdK7Qc7h+4MABr/831VHmqM909BVvRjhF0aRJkyhDGPHGjxVu69at4YlQGtxgE8i+ZKZKWsn0999/Y/DgwWoZg2teNPyQqoKmii8tm3BbUyqFfR4OEKiBkCohafVEaM2aNZVOVyY2gWkhE2eOqYTGapu6QzQMkUqhwQnu0NVWS1L5LaZN6ylUa+GSTqqFe/o6deqksMy0JjBlZGKNw5rnmmuuUTURLYewZkqHsA/2yCOPpONT4W+wqaayXbwz8eGICd6wCXzuueeUHalMaQI9JxP7PgSWfSGqaHAZwnTpIkF8VTQapuAyC5uGdAt1puzWVVKdB90EchqlpJtAz8jEUdjjjz+uFlw7duwYYTgr1YDq9Nl8UkPy119/1V5pvdIED9V87UYy0pUJNoEkM7sTvXr1wk8//ZSuT6vvJE0m9hdIHg7tH3vsMfz+++9p/Qf0x1iQF198sbJHqf1K4sofFTv+1JcqKbE3gZytT8coMCEysdli88WqlSvptMjm1eRdogXAzig7ppkgtI1JQtF6SkkKm0BOwaSrCQywSaBSVzyOaq5cKzvppJOUfjSV0KgT7RaXhEtUWEVzXiUepzcJfPzxx3GFpxmdhGTieGUykGYDY7lfW1yKObUrInhfp5hhlRnCieMTylK8kWjtRTeBNCeUCglwSYAbG7nkEMuxKTv++OOVNmOssHzPdK2m/PgPFOzZjYL/uReh+7sAIyOt3lr/QRKWarfcEBnLcZa7adOmMcMxHU4ZcITpKD8sBPbsdnxFz5wqAeQ2qI789tfG5bZfURd57VrGDJtb/2yVtuuH3V4sXYScCgHknGHmDlWMI3yFALDJrO8ZoHIZNxqmQkgm+1A5t8l5wNRCK7bBTjeioM99jp+mfvZff/3l+C4ZT6rqcsI0Qr6ZhYLHe6uCwW9HzDVHhCGZqh8F/HuG3Tv55y8/K0xbp7R/HzBxPPI7tEJ+m6baN/r62RQUPPYAEAx67kJd2gGL5h/5Jg238sCg/n2A3UcMxx4JAKSXTIvmR4K2YT1yKjt329JKpiJE8lo0QEaQacc24K3RyGvVBHnN61vLK/KeZHr8wUg/j55CXTtEkmn2TOCdN5FTLQBkF1rgs38qrWTirz+3bpWIPLCaxsJCc3/WFyVCppaNMoNMRUAUPP1o5pCpKE9s5jOCTKGuNyO3QQ0rZwqblk8+iPDjg5AJKFNkojptcWLvM3HUws6mVVTN9MV0q5e6NyUTZ953794d5ewz4Y59pqKv53lcM3GuiWet2F2UbpW9z1SUnzJFJi5u0gKtm9jJxE6lOqhPRzh0sLBmOhitYGZKJupFUR2E2564x43TEtz6zTkwq6STTCQNt5hTq4AWf3l8Bq2sMF8RkiYyUdOAu49pZ4HarFTw49RO+/btI7LDh6g+U1GIlDRzBOrkk09W6rBROSnyiCJTTk5hB+7PIiu1o1527ROYkomf5NoYVVworJGofmI/dCedZGI+GjdujLp166o8ce6MUyXNmzdXz+E/aSITv0c9epaLnrLhgjynTOyqQJ6Ric0XV8DtjmtvWrglmhqBRx11VMRxWvo9r1Fkoue/ZyC/TTMU9O6G/I6tAY5cHMSJTNRR4lEUdsdNkhQrmV555RXlR31tqziSad1qYNwYBG9oDgwbCEz5lzVK+N5paoDHhbGGtjrOsXEil2IlE3e2UJiHCHEi05JFCN5+Q+GAZfFCYKeDxoXLaI4WXaj2bHXayouVTFx2oVEP6sjblRMdyZSfj9yLKgJ/Oc/sO47mODdEg+pWx3afa18UbvnR6qpcNrjjjjsisNEPjmTSL2NcncjEDQHUGbI6WjAhGBSSifnizl5W5U7iSCangA5+TmRyCAaaG+SPjUIy0RTPVVddpSZ8ncLDiUwjhgIvDz7ifnLYTexCJmpOsEa2ussvv1x9WpOJM+Jcgpo9e7ZjlqLItGIZ8PZYNWWBt98APp8aFc+RTFGhAKWQr8nE5Yu2bduq9pZqJjzR20m8JpPTN6iBaCUTmzlW4dwwSdGnEui4JUEm3czpI2GjlPacyKQzXNzVhUxOUdiXpGgyUcOAOuxxk8kpUZtf3GSiNsCDDxZOkN14442KXOw3LVmyBEcffTS4LmaXdJCJvzBtlMvazGk/mg+0SjrIxOb/008/VZ+1NnMcJFDi7YBb8+14b0AmvWdQk4k/OC5Ek1SbNm2KOjItqmZyzECkZ9xk0tHY9Nl7/wRH11o6HK/pIJP1e1Yy0Z8jOv2L1OHSQSb9LV6p32TFhpoNHLhESBpqJv09K5m0H7sF+pwY7ZdyMnE0Ur9+fQUOO54UDnn566OWn+706gylk0xU6KdCGHWq2L/jiU1du3ZVQ2CdH17TSSYOv1u3bq0c80K9r6uvvlpZr7PmybHPFBHA5cGgZmIKnBpgP+rYY49VCnw8W4/dgXLlykWYYWTYlJPJ5V9y9U4nmVwzYXuRTjLZPu3+mMaayT0TkW+ETJF4OD4JmRxhifIUMkVBEu0hZIrGxMlHyOSEis1PyGQDxOVRyOQCjNVbyGRFw/0+ITJxfxv3mdEWUnGOE4OcOykujP1dMh1wDp9Z8DTs5aXjYc2cjU5EqLYb7NQWGP68p44ap0zbWAxHcybpJ0QmWmTjpONxxx1XrOMaHF2scNb31ONOdIsN52No5Zar7F46no+iF4NNwGVY6q4fblgDeY1qe+qYppv6crF5nPu10rqghmi8rs/ZlfD75XVjhleqQVyzNJC4fw6cfOPqskiGIbA5C8jaFLdrWLculkyfGjv8FvMdPEKmDONGqrPDPXR2TQqvvilk8gpJn6QjZPJJQfkhm0ImP5SST/IoZPJJQfkhm0ImP5SST/IoZPJJQfkhm0ImP5SST/IoZPJJQfkhm0ImP5SST/IoZPJJQfkhm0ImP5SST/IoZPJJQfkhm0ImP5SST/IoZPJJQfkhm0ImP5SST/IoZPJJQfkhm0ImP5SST/IoZPJJQfkhm0ImP5SST/IoZPJJQfkhm6kl07YtwHvjYrprap6DLvXrxQwXkda8//MDvmUqjyklU/5/X6n2Xh2+8HQU596tfBKmVzup2DD2+Nx7VeB2iODHkwEe6yCSMAI0KsaNrqeeemrcjuZ0uJ8xVhymu379eqO8BWj7uuCJ1ByZoDbyHToYkaGCQf2R16hmoclmbXU3IoQ8xIsATTDSHKST/fNk/XgIUpSJwk0bgGEDXA8rSjuZNFCKaEImDUdCV5JJmxdMKIFiItEoWQSZvpoBvPZS4TZ2t7NT0l0z6fwLmTQSiV/TSqaibBZrVF7IlHhhlnRMIVNRCUjNlDwVfU8mGv2kNX5aO7n77rvRoUMHdVr1hAkTotBx6oDrQEImjUTi12TIxNMeeGStm0T1mYoCet7M0RwyTxDQwmcON+0iZLIj4u1zMmTq1q0bWrVq5Zohz8hEE80889bueDIBxU4mHlPKs2/t4kimye8os8A8ATN4y3XA80/Zo8lznAi4kWnjxo1gGVod/bRkZ2erE5145nJWVpb2jrg6kakgFEJuncrA1i0RYfWD49QA5yh4nJXV0X60No5OMvHgZ9q2Jrt5BBZPULKLI5nsgeQ5YQTcyMTTwfv27RvhOG+khfa/eT4OT5zQBwbpd/oaRaaVy4HxrwMvDyk8P2XGNB00fHUkU/it5YZHW1jJZG/meNjM3r17LTFQODFpm7SMCCAPSSHgRianRFkBUHgUGA3uU3gaFi3pOVn3iyKTilH8n7jJxJOUaLKQYm/meNgNp995GJ5VpGayouH9fSJk+uabb8DzZHjyEx1tmn755ZdRmUspmaxfs5PpvffeU/Yure0ywwuZrKh5f29CJv11NoFWIaHsZ+HwfVrIxKkBHmrI40LZZ+rcuTPYAV+wYIE1j+peyBQFiacepmRi2dWqVQvTpxeeicyzVIYMGaLOUmFaVkkLmawfjHUvZIqFUHLvTcnE0y7379+vOt/8MvtKfLb66RwJmTQSZeRqSiYTWIRMJmiVgrBCplJQiJnyLwiZMqUkSkE+Mo9M1zQqPA9k9QrAYycd8NQyNuPIFHqkp5oP4lqZ565awHF2NbUQl53UeaQtJ4t5kJLXjunyMG0TifuEApNEJWz6EFi5ciWWLVvmuVu3bp3xPyFkMoZMIrghIGRyQ0b8jREQMhlDJhHcEBAyuSEj/sYICJmMIZMIbggImdyQEX9jBIRMxpBJBDcEhExuyIi/MQJCJmPIJIIbAkImN2TE3xgBIZMxZBLBDQEhkxsy4m+MgJDJGDKJ4IaAkMkNGfE3RkDIZAyZRHBDQMjkhoz4GyMgZDKGTCK4ISBkckNG/I0REDIZQyYR3BAQMrkhI/7GCAiZjCGTCG4ICJnckBF/YwSETMaQSQQ3BIRMbsiIvzECQiZjyCSCGwJCJjdkxN8YASGTMWQSwQ0BIZMbMuJvjICQyRgyieCGgJDJDRnxN0ZAyGQMmURwQ0DI5IaM+BsjIGQyhkwiuCEgZHJDRvyNERAyGUMmEdwQEDK5ISP+xggImYwhkwhuCAiZ3JARf2MEhEzGkEkENwSETG7IiL8xAv8PYk3cTbl6oN0AAAAASUVORK5CYII=)"
      ]
    },
    {
      "cell_type": "code",
      "metadata": {
        "id": "z4cEGZce2m0d",
        "colab": {
          "base_uri": "https://localhost:8080/"
        },
        "outputId": "8ff91c1c-bb97-4f69-d60a-4799875c6f8c"
      },
      "source": [
        "rx.print_tree()"
      ],
      "execution_count": 25,
      "outputs": [
        {
          "output_type": "stream",
          "text": [
            "{'a', 'e', 'b'}(1)\n",
            "    |__e(1)\n",
            "        |__a(1)\n",
            "    |__e(1)\n",
            "    |__e(1)\n",
            "    |__a(0)\n",
            "        |__b(1)\n"
          ],
          "name": "stdout"
        }
      ]
    },
    {
      "cell_type": "code",
      "metadata": {
        "id": "NJpiXPRM4HO8"
      },
      "source": [
        "rx1 = NI_tree_substraction(rx,'b')"
      ],
      "execution_count": 26,
      "outputs": []
    },
    {
      "cell_type": "markdown",
      "metadata": {
        "id": "d-QrZU3vRcEq"
      },
      "source": [
        "![image.png](data:image/png;base64,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)"
      ]
    },
    {
      "cell_type": "code",
      "metadata": {
        "id": "K0XW0qrp4qlU",
        "colab": {
          "base_uri": "https://localhost:8080/"
        },
        "outputId": "c0721693-695c-4370-9353-5580e5311781"
      },
      "source": [
        "rx1.print_tree()"
      ],
      "execution_count": 27,
      "outputs": [
        {
          "output_type": "stream",
          "text": [
            "{'a', 'e'}(1)\n",
            "    |__e(1)\n",
            "        |__a(1)\n",
            "    |__e(1)\n",
            "    |__e(1)\n",
            "    |__a(0)\n",
            "        |__b(1)\n"
          ],
          "name": "stdout"
        }
      ]
    },
    {
      "cell_type": "code",
      "metadata": {
        "id": "6-JXK8wZOBh5",
        "colab": {
          "base_uri": "https://localhost:8080/"
        },
        "outputId": "287e1e2b-ece4-4be6-83db-6e8d913f159f"
      },
      "source": [
        "freq_dict['$'] = -1\n",
        "freq_dict"
      ],
      "execution_count": 28,
      "outputs": [
        {
          "output_type": "execute_result",
          "data": {
            "text/plain": [
              "{'$': -1, 'a': 2, 'b': 1, 'c': 4, 'd': 4, 'e': 4}"
            ]
          },
          "metadata": {},
          "execution_count": 28
        }
      ]
    },
    {
      "cell_type": "code",
      "metadata": {
        "id": "wNfrhoCWLA-9"
      },
      "source": [
        "def Is_less_frequent(ix,i_1):\n",
        "\n",
        "  print(\"ix:{} and item:{}\".format(ix,i_1))  \n",
        "  #try:\n",
        "  if freq_dict[ix] < freq_dict[i_1]:\n",
        "    print(\"freq_dict[ix]:{} ,freq_dict[item]:{}\".format(freq_dict[ix],freq_dict[i_1]))\n",
        "      #print('-'*20)\n",
        "    return True \n",
        "  else:\n",
        "    return False\n",
        "  #except Exception:\n",
        "    #print(\"Key not found: {}\".format(ix))\n",
        "    #return True"
      ],
      "execution_count": 29,
      "outputs": []
    },
    {
      "cell_type": "code",
      "metadata": {
        "id": "pdVi-ji8QWaR"
      },
      "source": [
        "def RecursiveRemove_test(noder,minsup,IL,FL,ix):\n",
        "\n",
        "  for i in noder.children: # 1st layer node.\n",
        "    # ix < i what to do ??\n",
        "    #print(\"i= {} and i.item = {}\".format(i,i.item))\n",
        "    if Is_less_frequent(ix,i.item):\n",
        "      is_dash = noder.item.difference(i.item)\n",
        "      # TODO: Below line should be removed as per 4.3 section.\n",
        "    if is_dash not in IL and is_dash not in FL:\n",
        "      #print(\"is_dash\",is_dash)\n",
        "      r_dash = NI_tree_substraction(noder,i.item)\n",
        "      #print(\"r_dash.count:\",r_dash.count)\n",
        "      if r_dash.count < minsup:\n",
        "        #print(\"append\")\n",
        "        IL.append(is_dash)\n",
        "        RecursiveRemove(r_dash,minsup,IL,FL,i.item)\n",
        "      else:\n",
        "        FL.append(is_dash)"
      ],
      "execution_count": 30,
      "outputs": []
    },
    {
      "cell_type": "code",
      "metadata": {
        "id": "A531MURfqkZk"
      },
      "source": [
        "def RecursiveRemove(noder,minsup,IL,FL,ix):\n",
        "\n",
        "  for i in noder.children: # 1st layer node.\n",
        "    # ix < i what to do ??\n",
        "    #print(\"i= {} and i.item = {}\".format(i,i.item))\n",
        "    if Is_less_frequent(ix,i.item):\n",
        "      is_dash = noder.item.difference(i.item)\n",
        "    # TODO: Below line should be removed as per 4.3 section.\n",
        "    #if is_dash not in IL and is_dash not in FL:\n",
        "      #print(\"is_dash\",is_dash)\n",
        "      r_dash = NI_tree_substraction(noder,i.item)\n",
        "      #print(\"r_dash.count:\",r_dash.count)\n",
        "      if r_dash.count < minsup:\n",
        "        #print(\"append\")\n",
        "        IL.append(is_dash)\n",
        "        RecursiveRemove(r_dash,minsup,IL,FL,i.item)\n",
        "      else:\n",
        "        FL.append(is_dash)"
      ],
      "execution_count": 31,
      "outputs": []
    },
    {
      "cell_type": "code",
      "metadata": {
        "id": "0iMP03ba3TnE",
        "colab": {
          "base_uri": "https://localhost:8080/"
        },
        "outputId": "c1023b27-55e0-4ed8-f1d4-619a598dcbdb"
      },
      "source": [
        "IL = []\n",
        "FL = []\n",
        "minsup = 3\n",
        "RecursiveRemove(N_tree.root,minsup,IL,FL,'$')"
      ],
      "execution_count": 32,
      "outputs": [
        {
          "output_type": "stream",
          "text": [
            "ix:$ and item:d\n",
            "freq_dict[ix]:-1 ,freq_dict[item]:4\n",
            "ix:d and item:e\n",
            "ix:d and item:c\n",
            "ix:$ and item:c\n",
            "freq_dict[ix]:-1 ,freq_dict[item]:4\n",
            "ix:c and item:d\n",
            "ix:c and item:e\n",
            "ix:c and item:d\n",
            "ix:c and item:a\n"
          ],
          "name": "stdout"
        }
      ]
    },
    {
      "cell_type": "code",
      "metadata": {
        "colab": {
          "base_uri": "https://localhost:8080/"
        },
        "id": "MyQlN01f3qCD",
        "outputId": "69b4f124-5bcb-41f1-b0df-20bba65a6fbc"
      },
      "source": [
        "IL # infreq. list"
      ],
      "execution_count": 33,
      "outputs": [
        {
          "output_type": "execute_result",
          "data": {
            "text/plain": [
              "[{'a', 'b', 'c', 'e'}, {'a', 'b', 'd', 'e'}]"
            ]
          },
          "metadata": {},
          "execution_count": 33
        }
      ]
    },
    {
      "cell_type": "code",
      "metadata": {
        "colab": {
          "base_uri": "https://localhost:8080/"
        },
        "id": "CMqPaT5v4fAS",
        "outputId": "fb0f15c1-bac1-4a2d-8fe8-f49aeb2f7ebb"
      },
      "source": [
        "FL # frequent list"
      ],
      "execution_count": 34,
      "outputs": [
        {
          "output_type": "execute_result",
          "data": {
            "text/plain": [
              "[]"
            ]
          },
          "metadata": {},
          "execution_count": 34
        }
      ]
    },
    {
      "cell_type": "code",
      "metadata": {
        "colab": {
          "base_uri": "https://localhost:8080/",
          "height": 35
        },
        "id": "N74t_BfhEyfX",
        "outputId": "038ee61f-8b84-49d8-dd6a-b25623d7ad2c"
      },
      "source": [
        "N_tree.root.children[0].children[0].children[0].item"
      ],
      "execution_count": 35,
      "outputs": [
        {
          "output_type": "execute_result",
          "data": {
            "application/vnd.google.colaboratory.intrinsic+json": {
              "type": "string"
            },
            "text/plain": [
              "'a'"
            ]
          },
          "metadata": {},
          "execution_count": 35
        }
      ]
    },
    {
      "cell_type": "code",
      "metadata": {
        "colab": {
          "base_uri": "https://localhost:8080/"
        },
        "id": "sSfYfbDzxdgw",
        "outputId": "1b308706-6cdb-41c0-8b78-ec5021808d42"
      },
      "source": [
        "N_tree.root.children[0]"
      ],
      "execution_count": 36,
      "outputs": [
        {
          "output_type": "execute_result",
          "data": {
            "text/plain": [
              "<__main__.Node at 0x7f21c40da290>"
            ]
          },
          "metadata": {},
          "execution_count": 36
        }
      ]
    },
    {
      "cell_type": "code",
      "metadata": {
        "id": "kYGJXLE7X8UA"
      },
      "source": [
        "def check_nonexistent(ix):\n",
        "\n",
        "  exist = True\n",
        "  for x in T:\n",
        "    print(\"x:{} and ix:{}\".format(x,ix))\n",
        "    if x == ix:\n",
        "      print(\"x:{} and ix:{}\".format(x,ix))\n",
        "      exist = False\n",
        "      break\n",
        "  return exist"
      ],
      "execution_count": 37,
      "outputs": []
    },
    {
      "cell_type": "code",
      "metadata": {
        "id": "P-Seq1VpPfzm"
      },
      "source": [
        "def check_order(ix,i):\n",
        "\n",
        "  if order.index(ix) < order.index(i):\n",
        "    print(\"{} < {}\".format(ix,i))\n",
        "    return True\n",
        "  \n",
        "  return False"
      ],
      "execution_count": 38,
      "outputs": []
    },
    {
      "cell_type": "code",
      "metadata": {
        "colab": {
          "base_uri": "https://localhost:8080/"
        },
        "id": "qbmp3inMLcW0",
        "outputId": "d0db7ee6-17ca-48f9-a002-99f6ac5a232c"
      },
      "source": [
        "order = ['$','c','d','e','a','b'] # c < d < e < a < b\n",
        "\n",
        "order.index('d')\n",
        "# freq. + alpha. order \n",
        "\n",
        "# ix = c (1)\n",
        "# i = a (4)"
      ],
      "execution_count": 39,
      "outputs": [
        {
          "output_type": "execute_result",
          "data": {
            "text/plain": [
              "2"
            ]
          },
          "metadata": {},
          "execution_count": 39
        }
      ]
    },
    {
      "cell_type": "code",
      "metadata": {
        "id": "F1tMQM3MxrMx"
      },
      "source": [
        ""
      ],
      "execution_count": 39,
      "outputs": []
    }
  ]
}